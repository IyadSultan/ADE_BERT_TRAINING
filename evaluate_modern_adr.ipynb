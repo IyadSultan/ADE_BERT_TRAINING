{
 "cells": [
  {
   "cell_type": "code",
   "execution_count": 11,
   "metadata": {},
   "outputs": [
    {
     "name": "stderr",
     "output_type": "stream",
     "text": [
      "Device set to use cpu\n"
     ]
    },
    {
     "name": "stdout",
     "output_type": "stream",
     "text": [
      "Text: The patient developed a rash after taking penicillin.\n",
      "Prediction: LABEL_0, Confidence: 0.7138\n",
      "\n",
      "Text: The patient was given penicillin with no adverse effects.\n",
      "Prediction: LABEL_0, Confidence: 0.7581\n",
      "\n",
      "Text: After starting the new medication, she experienced severe headaches and dizziness.\n",
      "Prediction: LABEL_0, Confidence: 0.6555\n",
      "\n",
      "Text: The treatment was well-tolerated with no complications.\n",
      "Prediction: LABEL_0, Confidence: 0.7070\n",
      "\n"
     ]
    }
   ],
   "source": [
    "from transformers import AutoTokenizer, AutoModelForSequenceClassification, pipeline\n",
    "\n",
    "# Download the model and tokenizer\n",
    "model_name = \"mccoole/ModernBERT-large-ade-corpus-v2-classification\"\n",
    "tokenizer = AutoTokenizer.from_pretrained(\"answerdotai/ModernBERT-large\")\n",
    "model = AutoModelForSequenceClassification.from_pretrained(model_name)\n",
    "\n",
    "# Create a classification pipeline\n",
    "classifier = pipeline(\"text-classification\", model=model, tokenizer=tokenizer)\n",
    "\n",
    "# Example sentences to test\n",
    "examples = [\n",
    "    \"The patient developed a rash after taking penicillin.\",\n",
    "    \"The patient was given penicillin with no adverse effects.\",\n",
    "    \"After starting the new medication, she experienced severe headaches and dizziness.\",\n",
    "    \"The treatment was well-tolerated with no complications.\"\n",
    "]\n",
    "\n",
    "# Run classification on examples\n",
    "for example in examples:\n",
    "    result = classifier(example)\n",
    "    print(f\"Text: {example}\")\n",
    "    print(f\"Prediction: {result[0]['label']}, Confidence: {result[0]['score']:.4f}\\n\")"
   ]
  },
  {
   "cell_type": "code",
   "execution_count": null,
   "metadata": {},
   "outputs": [],
   "source": [
    "from datasets import load_dataset\n",
    "from transformers import Trainer, TrainingArguments\n",
    "import numpy as np\n",
    "from sklearn.metrics import precision_recall_fscore_support, accuracy_score\n",
    "\n",
    "# Load the dataset\n",
    "dataset = load_dataset(\"ade_corpus_v2\", \"Ade_corpus_v2_classification\")\n",
    "test_dataset = dataset[\"train\"].train_test_split(test_size=0.2, seed=42)[\"test\"]\n",
    "\n",
    "# Tokenize the dataset\n",
    "def tokenize_function(examples):\n",
    "    return tokenizer(examples[\"text\"], padding=\"max_length\", truncation=True)\n",
    "\n",
    "tokenized_test = test_dataset.map(tokenize_function, batched=True)\n",
    "tokenized_test = tokenized_test.remove_columns([\"text\"])\n",
    "tokenized_test.set_format(\"torch\")\n",
    "\n",
    "# Define compute_metrics function\n",
    "def compute_metrics(pred):\n",
    "    labels = pred.label_ids\n",
    "    preds = pred.predictions.argmax(-1)\n",
    "    precision, recall, f1, _ = precision_recall_fscore_support(labels, preds, average='binary')\n",
    "    acc = accuracy_score(labels, preds)\n",
    "    return {\n",
    "        'accuracy': acc,\n",
    "        'f1': f1,\n",
    "        'precision': precision,\n",
    "        'recall': recall\n",
    "    }\n",
    "\n",
    "# Set up Trainer for evaluation\n",
    "training_args = TrainingArguments(\n",
    "    output_dir=\"./results\",\n",
    "    do_train=False,\n",
    "    do_predict=True,\n",
    "    per_device_eval_batch_size=16,\n",
    "    report_to=\"none\"\n",
    ")\n",
    "\n",
    "trainer = Trainer(\n",
    "    model=model,\n",
    "    args=training_args,\n",
    "    eval_dataset=tokenized_test,\n",
    "    compute_metrics=compute_metrics\n",
    ")\n",
    "\n",
    "# Run evaluation\n",
    "metrics = trainer.evaluate()\n",
    "print(metrics)"
   ]
  }
 ],
 "metadata": {
  "kernelspec": {
   "display_name": "Python 3",
   "language": "python",
   "name": "python3"
  },
  "language_info": {
   "codemirror_mode": {
    "name": "ipython",
    "version": 3
   },
   "file_extension": ".py",
   "mimetype": "text/x-python",
   "name": "python",
   "nbconvert_exporter": "python",
   "pygments_lexer": "ipython3",
   "version": "3.10.11"
  }
 },
 "nbformat": 4,
 "nbformat_minor": 2
}
